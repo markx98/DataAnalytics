{
 "cells": [
  {
   "cell_type": "markdown",
   "metadata": {},
   "source": [
    "# Python Insights - Analyzing Data with Python\n",
    "\n",
    "### Customer Cancellations\n",
    "Company with over 800,000 clients for a Data project. The company recently noticed that the majority of its client base consists of inactive customers, meaning they have already canceled the service.\n",
    "\n",
    "In order to improve its results, the company wants to understand the main reasons for these cancellations and identify the most effective actions to reduce this number.\n"
   ]
  },
  {
   "cell_type": "code",
   "execution_count": null,
   "metadata": {},
   "outputs": [],
   "source": [
    "#!pip install pandas openpyxl numpy ipykernel nbformat plotly\n",
    "\n",
    "# Useless columns\n",
    "# Wrong format information\n",
    "# Empty values\n",
    "\n",
    "#1 Import\n",
    "import pandas as pd\n",
    "\n",
    "table = pd.read_csv(\"cancelamentos.csv\")\n",
    "\n",
    "#2 Diew dataset\n",
    "table = table.drop(columns=\"CustomerID\")\n",
    "\n",
    "display(table)\n"
   ]
  },
  {
   "cell_type": "code",
   "execution_count": null,
   "metadata": {},
   "outputs": [],
   "source": [
    "#3 Train Datavase\n",
    "\n",
    "# Delete empty values\n",
    "table = table.dropna()\n",
    "\n",
    "display(table.info())\n",
    "\n",
    "#Complete values\n",
    "#table = table.fillna()\n"
   ]
  },
  {
   "cell_type": "code",
   "execution_count": null,
   "metadata": {},
   "outputs": [],
   "source": [
    "#4 Analyze cancellations\n",
    "#display(table[\"cancelou\"].value_counts())\n",
    "#in % display(table[\"cancelou\"].value_counts(normalize=True))\n",
    "\n",
    "display(table[\"cancelou\"].value_counts(normalize=True).map(\"{:.1%}\".format))"
   ]
  },
  {
   "cell_type": "code",
   "execution_count": null,
   "metadata": {},
   "outputs": [],
   "source": [
    "#5 Analysis of reasons for cancellation\n",
    "import plotly.express as px\n",
    "\n",
    "# Create\n",
    "colum = \"assinatura\"\n",
    "#for colum in table.columns:\n",
    "grafic =  px.histogram(table, x=colum, color=\"cancelou\", text_auto=True)\n",
    "# Show\n",
    "grafic.show()"
   ]
  },
  {
   "cell_type": "code",
   "execution_count": null,
   "metadata": {},
   "outputs": [],
   "source": [
    "#All customers who called the call center more than 4 times canceled.\n",
    "  #Create an internal process to resolve customer issues.\n",
    "# All customers who delayed payment by more than 20 days canceled.\n",
    "  #Create a process to send an email after 10 days\n",
    "# All customers on monthly contracts canceled.\n",
    "  #Offer a discount on annual/quarterly contracts.\n",
    "#Filter the database.\n",
    "\n",
    "#If I address the call center issue, how much will the cancellation rate decrease?\n",
    "filter = table[\"ligacoes_callcenter\"]<=4\n",
    "table = table[filter]\n",
    "#And what about the delays?\n",
    "filter = table[\"dias_atraso\"]<=20\n",
    "table = table[filter]\n",
    "#Monthly contracts.\n",
    "filter = table[\"duracao_contrato\"]!=\"Monthly\"\n",
    "table = table[filter]\n",
    "\n",
    "display(table[\"cancelou\"].value_counts(normalize=True).map(\"{:.1%}\".format))"
   ]
  }
 ],
 "metadata": {
  "kernelspec": {
   "display_name": "base",
   "language": "python",
   "name": "python3"
  },
  "language_info": {
   "codemirror_mode": {
    "name": "ipython",
    "version": 3
   },
   "file_extension": ".py",
   "mimetype": "text/x-python",
   "name": "python",
   "nbconvert_exporter": "python",
   "pygments_lexer": "ipython3",
   "version": "3.12.4"
  },
  "orig_nbformat": 4
 },
 "nbformat": 4,
 "nbformat_minor": 2
}
